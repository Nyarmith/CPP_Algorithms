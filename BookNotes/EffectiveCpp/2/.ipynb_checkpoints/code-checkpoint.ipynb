{
 "cells": [
  {
   "cell_type": "code",
   "execution_count": 1,
   "metadata": {},
   "outputs": [
    {
     "data": {
      "text/plain": []
     },
     "execution_count": 1,
     "metadata": {},
     "output_type": "execute_result"
    }
   ],
   "source": [
    "#include <iostream>\n",
    "#include <vector>\n",
    "#include <string>"
   ]
  },
  {
   "cell_type": "markdown",
   "metadata": {},
   "source": [
    "## 5 Know What Functions C++ Silently Writes For You\n",
    "\n"
   ]
  },
  {
   "cell_type": "code",
   "execution_count": 2,
   "metadata": {},
   "outputs": [
    {
     "name": "stdout",
     "output_type": "stream",
     "text": [
      "0 0\n",
      "3 4\n"
     ]
    },
    {
     "data": {
      "text/plain": [
       "(std::basic_ostream<char, std::char_traits<char> > &) @0x7f98ae6c4460\n"
      ]
     },
     "execution_count": 2,
     "metadata": {},
     "output_type": "execute_result"
    }
   ],
   "source": [
    "struct Zazzy { int a; int b; };\n",
    "Zazzy z, v;\n",
    "z = {3, 4};\n",
    "std::cout << v.a << \" \" << v.b << \"\\n\";\n",
    "v = z;\n",
    "std::cout << v.a << \" \" << v.b << \"\\n\";"
   ]
  },
  {
   "cell_type": "code",
   "execution_count": 3,
   "metadata": {},
   "outputs": [
    {
     "name": "stdout",
     "output_type": "stream",
     "text": [
      "1 2\n",
      "3 6\n"
     ]
    },
    {
     "data": {
      "text/plain": []
     },
     "execution_count": 3,
     "metadata": {},
     "output_type": "execute_result"
    }
   ],
   "source": [
    "struct Wew {\n",
    "    int a;\n",
    "    int b;\n",
    "    explicit Wew(int a) : a(a),b(2*a){}\n",
    "};\n",
    "\n",
    "// note that this fails now -> Wew q;\n",
    "Wew q(1);\n",
    "Wew e(3);\n",
    "\n",
    "std::cout << q.a << \" \" << q.b << \"\\n\";\n",
    "q = e;\n",
    "std::cout << q.a << \" \" << q.b << \"\\n\";\n",
    "\n",
    "Wew r(q);"
   ]
  },
  {
   "cell_type": "markdown",
   "metadata": {},
   "source": [
    "## 6 Explicitly Disallow the Use of Compiler-Generated Functions You Don't Want"
   ]
  },
  {
   "cell_type": "code",
   "execution_count": 4,
   "metadata": {},
   "outputs": [
    {
     "data": {
      "text/plain": []
     },
     "execution_count": 4,
     "metadata": {},
     "output_type": "execute_result"
    }
   ],
   "source": [
    "struct Hlep {\n",
    "    int a;\n",
    "    int b;\n",
    "    explicit Hlep(int a, int b) : a(a), b(b) {}\n",
    "    Hlep &operator=(const Hlep &o) = delete;\n",
    "};\n",
    "\n",
    "Hlep A(4,4);\n",
    "Hlep B(A);\n",
    "Hlep C(3,3);\n",
    "\n",
    "//A = C;\n",
    "//^ will complain that the function has explicitly been deleted"
   ]
  },
  {
   "cell_type": "markdown",
   "metadata": {},
   "source": [
    "9 Never Call Virtual Functions During Construction or Destruction"
   ]
  },
  {
   "cell_type": "code",
   "execution_count": 9,
   "metadata": {},
   "outputs": [
    {
     "name": "stdout",
     "output_type": "stream",
     "text": [
      "5\n",
      "5\n"
     ]
    },
    {
     "data": {
      "text/plain": []
     },
     "execution_count": 9,
     "metadata": {},
     "output_type": "execute_result"
    }
   ],
   "source": [
    "struct Parent\n",
    "{\n",
    "    int a;\n",
    "    int b;\n",
    "    int z;\n",
    "    virtual int getVal(){ return a; }\n",
    "    Parent(int a, int b) : a(a), b(b)\n",
    "    {\n",
    "        z = getVal();\n",
    "        std::cout << z << \"\\n\";\n",
    "    }\n",
    "};\n",
    "\n",
    "struct Child : public Parent\n",
    "{\n",
    "    int getVal() override\n",
    "    {\n",
    "        return a*a;\n",
    "    }\n",
    "    \n",
    "    Child(int a, int b) : Parent(a, b) { }\n",
    "};\n",
    "\n",
    "struct GrandChild : public Child\n",
    "{\n",
    "    int getVal() override\n",
    "    {\n",
    "        return a*a*b;\n",
    "    }\n",
    "    GrandChild(int a, int b) : Child (a, b) { }\n",
    "};\n",
    "\n",
    "Parent PRNT(5,3);\n",
    "GrandChild GC(5,3);"
   ]
  },
  {
   "cell_type": "markdown",
   "metadata": {},
   "source": [
    "## 10 Have Assignment Operators Return a Reference to \\*this\n",
    "## 11 Handle Self-Assignment"
   ]
  },
  {
   "cell_type": "code",
   "execution_count": 13,
   "metadata": {},
   "outputs": [
    {
     "name": "stdout",
     "output_type": "stream",
     "text": [
      "zC 60 - zA 60\n"
     ]
    },
    {
     "data": {
      "text/plain": [
       "(std::basic_ostream<char, std::char_traits<char> > &) @0x7f98ae6c4460\n"
      ]
     },
     "execution_count": 13,
     "metadata": {},
     "output_type": "execute_result"
    }
   ],
   "source": [
    "struct ZZ\n",
    "{\n",
    "    int A[3];\n",
    "    int prod(){ return A[0]*A[1]*A[2]; }\n",
    "    ZZ(int a, int b, int c){ A[0]=a; A[1] = b; A[2] = c; }\n",
    "    ZZ &operator=(const ZZ &o){\n",
    "        if (&o != this){\n",
    "            A[0] = o.A[0];\n",
    "            A[1] = o.A[1];\n",
    "            A[2] = o.A[2];\n",
    "        }\n",
    "        return *this;\n",
    "    }\n",
    "};\n",
    "\n",
    "ZZ zA(5,4,3);\n",
    "ZZ zB(1,2,3), zC(0,0,0);\n",
    "// now I can do this\n",
    "zC = zB = zA;\n",
    "std::cout << \"zC \" << zC.prod() << \" - zA \" << zA.prod() << \"\\n\";"
   ]
  }
 ],
 "metadata": {
  "kernelspec": {
   "display_name": "C++14",
   "language": "C++",
   "name": "cling-cpp14"
  },
  "language_info": {
   "codemirror_mode": "c++",
   "file_extension": ".c++",
   "mimetype": "text/x-c++src",
   "name": "c++"
  }
 },
 "nbformat": 4,
 "nbformat_minor": 2
}
