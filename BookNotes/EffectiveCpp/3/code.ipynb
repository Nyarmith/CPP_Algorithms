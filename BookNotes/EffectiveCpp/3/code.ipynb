{
 "cells": [
  {
   "cell_type": "code",
   "execution_count": 1,
   "metadata": {},
   "outputs": [
    {
     "data": {
      "text/plain": []
     },
     "execution_count": 1,
     "metadata": {},
     "output_type": "execute_result"
    }
   ],
   "source": [
    "#include <iostream>\n",
    "#include <memory>"
   ]
  },
  {
   "cell_type": "markdown",
   "metadata": {},
   "source": [
    "## 13 Use Objects to Manage Resources"
   ]
  },
  {
   "cell_type": "code",
   "execution_count": 2,
   "metadata": {
    "scrolled": true
   },
   "outputs": [
    {
     "data": {
      "text/plain": []
     },
     "execution_count": 2,
     "metadata": {},
     "output_type": "execute_result"
    }
   ],
   "source": [
    "// the classic approach\n",
    "struct MemObj\n",
    "{\n",
    "    int sz;\n",
    "    int *mem;\n",
    "    MemObj(int sz) : sz(sz) { mem = new int[sz]; }\n",
    "    ~MemObj() {delete[] mem;}\n",
    "};\n",
    "\n",
    "// the modern approach\n",
    "{\n",
    "    int sz = 200;\n",
    "    auto mem = std::make_unique<int[]>(sz);\n",
    "} // at end of scope mem is deleted"
   ]
  },
  {
   "cell_type": "markdown",
   "metadata": {},
   "source": [
    "## 15 Provide Access to Raw Resources in Resource-Managing Classes"
   ]
  },
  {
   "cell_type": "code",
   "execution_count": 4,
   "metadata": {},
   "outputs": [
    {
     "data": {
      "text/plain": []
     },
     "execution_count": 4,
     "metadata": {},
     "output_type": "execute_result"
    }
   ],
   "source": [
    "struct MemObj2\n",
    "{\n",
    "    int sz;\n",
    "    int *mem;\n",
    "    MemObj2(int sz) : sz(sz) { mem = new int[sz]; }\n",
    "    int *get() {return mem;}\n",
    "    ~MemObj2() {delete[] mem;}\n",
    "};"
   ]
  }
 ],
 "metadata": {
  "kernelspec": {
   "display_name": "C++14",
   "language": "C++",
   "name": "cling-cpp14"
  },
  "language_info": {
   "codemirror_mode": "c++",
   "file_extension": ".c++",
   "mimetype": "text/x-c++src",
   "name": "c++"
  }
 },
 "nbformat": 4,
 "nbformat_minor": 2
}
